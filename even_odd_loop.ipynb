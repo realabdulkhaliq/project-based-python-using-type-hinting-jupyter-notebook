{
 "cells": [
  {
   "cell_type": "code",
   "execution_count": 1,
   "metadata": {},
   "outputs": [
    {
     "name": "stdout",
     "output_type": "stream",
     "text": [
      "Even number list: [2, 4]\n",
      "Even number count: 2\n",
      "Odd number list: []\n",
      "Odd number count: 0\n"
     ]
    }
   ],
   "source": [
    "odd_no_list: list[int] = []\n",
    "even_no_list: list[int] = []\n",
    "\n",
    "odd_no_count: int = 0\n",
    "even_no_count: int = 0\n",
    "number: int = 1\n",
    "\n",
    "while number != 0:\n",
    "    number = int(input(\"Enter a number: or 0 to exit\"))\n",
    "   \n",
    "    if number == 0:\n",
    "        break\n",
    "    else:\n",
    "        if number % 2 == 0:\n",
    "            even_no_list.append(number)\n",
    "            even_no_count += 1\n",
    "        else:\n",
    "            odd_no_list.append(number)\n",
    "            odd_no_count += 1\n",
    "\n",
    "print(\"Even number list:\", even_no_list)\n",
    "print(\"Even number count:\", even_no_count)\n",
    "\n",
    "print(\"Odd number list:\", odd_no_list)\n",
    "print(\"Odd number count:\", odd_no_count)"
   ]
  },
  {
   "cell_type": "code",
   "execution_count": null,
   "metadata": {},
   "outputs": [],
   "source": []
  }
 ],
 "metadata": {
  "kernelspec": {
   "display_name": "py12",
   "language": "python",
   "name": "python3"
  },
  "language_info": {
   "codemirror_mode": {
    "name": "ipython",
    "version": 3
   },
   "file_extension": ".py",
   "mimetype": "text/x-python",
   "name": "python",
   "nbconvert_exporter": "python",
   "pygments_lexer": "ipython3",
   "version": "3.12.3"
  }
 },
 "nbformat": 4,
 "nbformat_minor": 2
}
